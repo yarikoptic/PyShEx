{
 "cells": [
  {
   "cell_type": "code",
   "execution_count": 1,
   "metadata": {},
   "outputs": [],
   "source": [
    "import sys\n",
    "from pyshex import PrefixLibrary\n",
    "from rdflib import Graph, RDF"
   ]
  },
  {
   "cell_type": "markdown",
   "metadata": {},
   "source": [
    "# `PrefixLib` - Prefix library for ShEx and RDF\n",
    "`PrefixLib` reads ShEx or RDF and creates a library of namespaces.\n",
    "\n",
    "## As an example, one can take a ShEx fragment:"
   ]
  },
  {
   "cell_type": "code",
   "execution_count": 2,
   "metadata": {},
   "outputs": [
    {
     "name": "stdout",
     "output_type": "stream",
     "text": [
      "http://www.w3.org/ns/prov#\n",
      "http://www.w3.org/ns/prov#source\n",
      "http://genewiki.shape/g117\n",
      "http://www.w3.org/1999/02/22-rdf-syntax-ns#type\n"
     ]
    }
   ],
   "source": [
    "# A ShEx shape definition\n",
    "shex = \"\"\"\n",
    "PREFIX prov: <http://www.w3.org/ns/prov#>\n",
    "PREFIX gw: <http://genewiki.shape/>\n",
    "\n",
    "gw:S {a .}\n",
    "\"\"\"\n",
    "p = PrefixLibrary(shex, rdf=str(RDF))\n",
    "\n",
    "# Gives us access to the PROV, GW and RDF namespaces\n",
    "print(p.PROV)\n",
    "print(p.PROV.source)\n",
    "print(p.GW.g117)\n",
    "print(p.RDF.type)"
   ]
  },
  {
   "cell_type": "markdown",
   "metadata": {},
   "source": [
    "## ... add some additional prefixes from RDF text"
   ]
  },
  {
   "cell_type": "code",
   "execution_count": 3,
   "metadata": {},
   "outputs": [
    {
     "name": "stdout",
     "output_type": "stream",
     "text": [
      "http://example.org/test/swell\n"
     ]
    }
   ],
   "source": [
    "p.add_rdf('@prefix ex: <http://example.org/test/> .')\n",
    "print(p.EX.swell)"
   ]
  },
  {
   "cell_type": "markdown",
   "metadata": {},
   "source": [
    "### ( `add_rdf` supports text, a file name, or a URI, with an optional format string)\n",
    "\n",
    "## ... add prefixes directly"
   ]
  },
  {
   "cell_type": "code",
   "execution_count": 4,
   "metadata": {},
   "outputs": [
    {
     "name": "stdout",
     "output_type": "stream",
     "text": [
      "http://problems.biz#smell\n"
     ]
    }
   ],
   "source": [
    "p['gas'] = \"http://problems.biz#\"\n",
    "print(p.GAS.smell)"
   ]
  },
  {
   "cell_type": "markdown",
   "metadata": {},
   "source": [
    "## PrefixLibrary can be used to get namespaces from the web:"
   ]
  },
  {
   "cell_type": "code",
   "execution_count": 5,
   "metadata": {},
   "outputs": [
    {
     "name": "stdout",
     "output_type": "stream",
     "text": [
      "PREFIX xml: <http://www.w3.org/XML/1998/namespace>\n",
      "PREFIX rdf: <http://www.w3.org/1999/02/22-rdf-syntax-ns#>\n",
      "PREFIX rdfs: <http://www.w3.org/2000/01/rdf-schema#>\n",
      "PREFIX xsd: <http://www.w3.org/2001/XMLSchema#>\n",
      "PREFIX wb: <http://identifiers.org/wormbase/>\n",
      "PREFIX kegg_ligand: <http://www.genome.jp/dbget-bin/www_bget?cpd:>\n",
      "PREFIX pso_git: <https://github.com/Planteome/plant-stress-ontology/issues/>\n",
      "PREFIX ncbigene: <http://identifiers.org/ncbigene/>\n",
      "PREFIX kegg_reaction: <http://www.genome.jp/dbget-bin/www_bget?rn:>\n",
      "PREFIX go_ref: <http://purl.obolibrary.org/obo/go/references/>\n",
      "PREFIX vega: <http://vega.sanger.ac.uk/id/>\n",
      "PREFIX zfin: <http://identifiers.org/zfin/>\n",
      "PREFIX pfam: <http://pfam.xfam.org/family/>\n",
      "PREFIX sgn: <http://identifiers.org/sgn/>\n",
      "PREFIX reactome: <http://identifiers.org/reactome/>\n",
      "PREFIX interpro: <http://identifiers.org/interpro/>\n",
      "PREFIX unirule: <http://www.uniprot.org/unirule/>\n",
      "PREFIX dictybase: <http://identifiers.org/dictybase.gene/>\n",
      "PREFIX po_git: <https://github.com/Planteome/plant-ontology/issues/>\n",
      "PREFIX aspgd_locus: <http://identifiers.org/aspgd.locus/>\n",
      "PREFIX sgd: <http://identifiers.org/sgd/>\n",
      "PREFIX hgnc: <http://identifiers.org/hgnc/>\n",
      "PREFIX dictybase_gene_name: <http://dictybase.org/gene/>\n",
      "PREFIX tair: <http://identifiers.org/tair.locus/>\n",
      "PREFIX ensemblfungi: <http://www.ensemblgenomes.org/id/>\n",
      "PREFIX wikipedia: <http://en.wikipedia.org/wiki/>\n",
      "PREFIX psi-mod: <http://www.ebi.ac.uk/ontology-lookup/?termId=MOD:>\n",
      "PREFIX rgd: <http://identifiers.org/rgd/>\n",
      "PREFIX pmid: <http://www.ncbi.nlm.nih.gov/pubmed/>\n",
      "PREFIX xenbase: <http://identifiers.org/xenbase/>\n",
      "PREFIX maizegdb: <http://maizegdb.org/gene_center/gene/>\n",
      "PREFIX hamap: <http://hamap.expasy.org/unirule/>\n",
      "PREFIX to_git: <https://github.com/Planteome/plant-trait-ontology/issues/>\n",
      "PREFIX mesh: <http://n2t.net/MESH:>\n",
      "PREFIX gr_protein: <http://identifiers.org/gramene.protein/>\n",
      "PREFIX pombase: <http://identifiers.org/pombase/>\n",
      "PREFIX ena: <http://www.ebi.ac.uk/ena/data/view/>\n",
      "PREFIX ec: <http://www.expasy.org/enzyme/>\n",
      "PREFIX uniprotkb: <http://identifiers.org/uniprot/>\n",
      "PREFIX mgi: <http://identifiers.org/mgi/>\n",
      "PREFIX gomodel: <http://model.geneontology.org/>\n",
      "PREFIX kegg_pathway: <http://identifiers.org/kegg.pathway/>\n",
      "PREFIX doi: <http://dx.doi.org/>\n",
      "PREFIX panther: <http://identifiers.org/panther.family/>\n",
      "PREFIX fb: <http://identifiers.org/flybase/>\n",
      "PREFIX ensembl: <http://identifiers.org/ensembl/>\n",
      "PREFIX cgd: <http://identifiers.org/cgd/>\n",
      "PREFIX gr_gene: <http://identifiers.org/gramene.gene/>\n",
      "PREFIX kegg_enzyme: <http://identifiers.org/kegg.enzyme/>\n",
      "PREFIX cacao: <http://gowiki.tamu.edu/wiki/index.php/>\n",
      "PREFIX po_ref: <http://planteome.org/po_ref/>\n",
      "PREFIX uniprotkb-subcell: <http://www.uniprot.org/locations/>\n",
      "PREFIX nif_subcellular: <http://www.neurolex.org/wiki/>\n",
      "PREFIX genedb: <http://identifiers.org/genedb/>\n",
      "PREFIX apidb_plasmodb: <http://www.plasmodb.org/gene/>\n",
      "PREFIX rnacentral: <http://rnacentral.org/rna/>\n",
      "PREFIX rfam: <http://rfam.sanger.ac.uk/family/>\n",
      "PREFIX obo_sf2_po: <http://sourceforge.net/p/obo/plant-ontology-po-term-requests/>\n",
      "PREFIX uniparc: <http://www.uniprot.org/uniparc/>\n",
      "PREFIX gdb: <http://www.gdb.org/gdb-bin/genera/accno?accessionNum=GDB:>\n",
      "PREFIX dbsnp: <http://identifiers.org/dbsnp/>\n",
      "PREFIX maizegdb_locus: <http://identifiers.org/maizegdb.locus/>\n",
      "PREFIX mo: <http://mged.sourceforge.net/ontologies/MGEDontology.php#>\n",
      "PREFIX plana_ref: <http://purl.obolibrary.org/obo/plana/references/>\n",
      "PREFIX cas: <http://identifiers.org/cas/>\n",
      "PREFIX complexportal: <https://www.ebi.ac.uk/complexportal/complex/>\n",
      "PREFIX jstor: <http://www.jstor.org/stable/>\n",
      "PREFIX gr_qtl: <http://identifiers.org/gramene.qtl/>\n",
      "PREFIX vbrc: <http://vbrc.org/query.asp?web_id=VBRC:>\n",
      "PREFIX eo_git: <https://github.com/Planteome/plant-environment-ontology/issues/>\n",
      "PREFIX tgd: <http://identifiers.org/tgd/>\n",
      "PREFIX obo_sf2_peco: <https://sourceforge.net/p/obo/plant-environment-ontology-eo/>\n",
      "PREFIX metacyc: <http://identifiers.org/metacyc/>\n",
      "PREFIX omim: <http://omim.org/entry/>\n",
      "PREFIX intact: <http://identifiers.org/intact/>\n",
      "PREFIX ensembl_geneid: <http://www.ensembl.org/id/>\n",
      "PREFIX uniprotkb-kw: <http://www.uniprot.org/keywords/>\n",
      "PREFIX eupathdb: <http://eupathdb.org/gene/>\n",
      "\n",
      "\n"
     ]
    }
   ],
   "source": [
    "# Load the prefixes from prefix commons GO description in JSON-LD\n",
    "p = PrefixLibrary()\n",
    "p.add_rdf(\"https://raw.githubusercontent.com/prefixcommons/biocontext/master/registry/go_context.jsonld\", \n",
    "          format=\"json-ld\")\n",
    "# Emit the prefixes in a ShEx format\n",
    "print(str(p))"
   ]
  },
  {
   "cell_type": "markdown",
   "metadata": {},
   "source": [
    "## We can then add prefixes from a library"
   ]
  },
  {
   "cell_type": "code",
   "execution_count": 6,
   "metadata": {},
   "outputs": [
    {
     "name": "stdout",
     "output_type": "stream",
     "text": [
      "http://purl.org/dc/elements/1.1/author\n"
     ]
    }
   ],
   "source": [
    "# Add some RDF to the library\n",
    "rdf = \"\"\"\n",
    "@prefix dc: <http://purl.org/dc/elements/1.1/> .\n",
    "@prefix dcterms: <http://purl.org/dc/terms/> .\n",
    "@prefix doap: <http://usefulinc.com/ns/doap#> .\n",
    "@prefix foaf: <http://xmlns.com/foaf/0.1/> .\n",
    "@prefix ex: <http://example.org/test/> .\n",
    "\n",
    "ex:Sam a foaf:Person.\n",
    "\"\"\"\n",
    "p.add_rdf(rdf)\n",
    "print(p.DC.author)"
   ]
  },
  {
   "cell_type": "markdown",
   "metadata": {},
   "source": [
    "## PrefixLib can also inject prefixes into another namespace.\n",
    "### As an example, we can inject the prefixes above directly into our namespace"
   ]
  },
  {
   "cell_type": "code",
   "execution_count": 7,
   "metadata": {},
   "outputs": [
    {
     "name": "stdout",
     "output_type": "stream",
     "text": [
      "Warning: RDF is already defined in namespace <module '__main__'>. Not overridden\n",
      "http://xmlns.com/foaf/0.1/Person\n"
     ]
    }
   ],
   "source": [
    "p.add_to_object(sys.modules[__name__])      # Injecting directly into our namespace\n",
    "print(FOAF.Person)"
   ]
  },
  {
   "cell_type": "markdown",
   "metadata": {},
   "source": [
    "## We didn't overrite RDF because it was already defined on the import statement at the top of this document.\n",
    "### This warning can be omitted:"
   ]
  },
  {
   "cell_type": "code",
   "execution_count": 8,
   "metadata": {},
   "outputs": [
    {
     "name": "stdout",
     "output_type": "stream",
     "text": [
      "1\n",
      "http://example.org/nonstandard/rdf#type\n"
     ]
    }
   ],
   "source": [
    "# The output of add_to_object is the number of elements actually added\n",
    "p = PrefixLibrary(None, rdf=\"http://example.org/nonstandard/rdf#\")\n",
    "print(str(p.add_to_object(sys.modules[__name__], override=True)))\n",
    "print(RDF.type)"
   ]
  }
 ],
 "metadata": {
  "kernelspec": {
   "display_name": "Python 3",
   "language": "python",
   "name": "python3"
  },
  "language_info": {
   "codemirror_mode": {
    "name": "ipython",
    "version": 3
   },
   "file_extension": ".py",
   "mimetype": "text/x-python",
   "name": "python",
   "nbconvert_exporter": "python",
   "pygments_lexer": "ipython3",
   "version": "3.7.5"
  }
 },
 "nbformat": 4,
 "nbformat_minor": 2
}
